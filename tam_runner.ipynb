{
 "cells": [
  {
   "cell_type": "code",
   "execution_count": 1,
   "metadata": {},
   "outputs": [
    {
     "name": "stdout",
     "output_type": "stream",
     "text": [
      "2018-02-28, (MA Period  6) Ending Value 845.70\n",
      "2018-02-28, (MA Period  8) Ending Value 996.80\n",
      "2018-02-28, (MA Period  9) Ending Value 997.00\n",
      "2018-02-28, (MA Period  5) Ending Value 849.00\n",
      "2018-02-28, (MA Period 12) Ending Value 1003.90\n",
      "2018-02-28, (MA Period  7) Ending Value 846.00\n",
      "2018-02-28, (MA Period 11) Ending Value 988.10\n",
      "2018-02-28, (MA Period 10) Ending Value 1015.80\n",
      "2018-02-28, (MA Period 13) Ending Value 1040.90\n",
      "2018-02-28, (MA Period 15) Ending Value 1001.60\n",
      "2018-02-28, (MA Period 14) Ending Value 1028.00\n",
      "2018-02-28, (MA Period 16) Ending Value 1046.90\n",
      "2018-02-28, (MA Period 18) Ending Value 1017.40\n",
      "2018-02-28, (MA Period 17) Ending Value 1020.80\n",
      "2018-02-28, (MA Period 19) Ending Value 1021.80\n"
     ]
    }
   ],
   "source": [
    "%run \"tam_optimize\""
   ]
  },
  {
   "cell_type": "code",
   "execution_count": 6,
   "metadata": {},
   "outputs": [
    {
     "name": "stdout",
     "output_type": "stream",
     "text": [
      "Starting Portfolio Value: 1000.00\n",
      "[<backtrader.feeds.yahoo.YahooFinanceCSVData object at 0x10efccd30>]\n",
      "2018-02-28, (MA Period 15) Ending Value 1001.60\n",
      "Final Portfolio Value: 1001.60\n"
     ]
    }
   ],
   "source": [
    "%run \"tam_backtest\""
   ]
  },
  {
   "cell_type": "code",
   "execution_count": null,
   "metadata": {},
   "outputs": [],
   "source": []
  }
 ],
 "metadata": {
  "kernelspec": {
   "display_name": "Python 3",
   "language": "python",
   "name": "python3"
  },
  "language_info": {
   "codemirror_mode": {
    "name": "ipython",
    "version": 3
   },
   "file_extension": ".py",
   "mimetype": "text/x-python",
   "name": "python",
   "nbconvert_exporter": "python",
   "pygments_lexer": "ipython3",
   "version": "3.6.4"
  }
 },
 "nbformat": 4,
 "nbformat_minor": 2
}
